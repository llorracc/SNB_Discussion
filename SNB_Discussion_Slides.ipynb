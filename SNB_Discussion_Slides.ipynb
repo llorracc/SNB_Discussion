{
 "cells": [
  {
   "cell_type": "markdown",
   "id": "547110e7",
   "metadata": {
    "slideshow": {
     "slide_type": "slide"
    }
   },
   "source": [
    "\n",
    "<h2 style=\"text-align: center;\">Optimal Macroeconomic Policies in a Heterogenous World</h2>\n",
    "\n",
    "<h3 style=\"text-align: center;\">By Bullard, DiCecio, Singh, and Suda</h3>\n",
    "\n",
    "\n",
    "&nbsp;\n",
    "\n",
    "<h4 style=\"text-align: center;\">Discussion by Christopher D. Carroll</h4>\n",
    "<h5 style=\"text-align: center;\">Johns Hopkins University</h5>\n",
    "\n",
    "&nbsp;\n",
    "\n",
    "\n",
    "<h4 style=\"text-align: center;\"> Swiss National Bank Conference</h4>\n",
    "\n",
    "<h4 style=\"text-align: center;\"> September 30th 2023</h4>\n",
    "\n",
    "\n"
   ]
  },
  {
   "cell_type": "markdown",
   "id": "983604fd",
   "metadata": {
    "slideshow": {
     "slide_type": "slide"
    }
   },
   "source": [
    "<h3 style=\"text-align: left;\">This paper</h3>\n"
   ]
  },
  {
   "cell_type": "markdown",
   "id": "7ea11e36",
   "metadata": {
    "slideshow": {
     "slide_type": "fragment"
    }
   },
   "source": [
    "-  Builds on \"nominal contracting friction\" monetary policy  literature.\n",
    "    - Nominal return on assets is set in advance."
   ]
  },
  {
   "cell_type": "markdown",
   "id": "a7850281",
   "metadata": {
    "slideshow": {
     "slide_type": "fragment"
    }
   },
   "source": [
    "-  What is the optimal monetary policy wrt this friction?\n",
    "   - Claim: Nominal GDP targeting (Sheedy 2014,..).\n",
    "   - Instead of price and output stabilization .\n",
    "   "
   ]
  },
  {
   "cell_type": "markdown",
   "id": "268ac6f0",
   "metadata": {
    "slideshow": {
     "slide_type": "fragment"
    }
   },
   "source": [
    "- Werning (commenting on Sheedy 2014):\n",
    "   - Idiosyncratic uncertainty changes everything.\n",
    "   - Monetary policy unavoidably causes wealth redistributions.\n",
    "   - Fisher debt deflation\n",
    "        \n",
    "\n"
   ]
  },
  {
   "cell_type": "markdown",
   "id": "39ea2c82",
   "metadata": {
    "slideshow": {
     "slide_type": "fragment"
    }
   },
   "source": [
    "\n",
    "\n",
    "### Post Sheedy/Werning agenda: add heterogeneity and more realistic policies.\n",
    "\n",
    "### Latest update hot off the press: This paper.\n"
   ]
  },
  {
   "cell_type": "markdown",
   "id": "b76e23c8",
   "metadata": {
    "slideshow": {
     "slide_type": "slide"
    }
   },
   "source": [
    "\n",
    "\n",
    "\n",
    "> ### \"...we present a benchmark heterogeneous agent .. model ... that permits pencil and paper solutions\"\n",
    "\n",
    "<h3 style=\"text-align: right;\"> - Bullard, DiCecio, Singh, and Suda</h3>\n",
    "\n",
    "&nbsp;\n",
    "\n"
   ]
  },
  {
   "cell_type": "markdown",
   "id": "66e3e774",
   "metadata": {
    "slideshow": {
     "slide_type": "fragment"
    }
   },
   "source": [
    "\n",
    "\n",
    "<h3 style=\"text-align: left;\"> Albert Einstein:</h3>\n",
    "\n",
    "\n",
    "    \n"
   ]
  },
  {
   "cell_type": "markdown",
   "id": "69010701",
   "metadata": {
    "slideshow": {
     "slide_type": "fragment"
    }
   },
   "source": [
    ">### \"Everything should be made as simple as possible, but not simpler.\" \n"
   ]
  },
  {
   "cell_type": "markdown",
   "id": "405f7f1f",
   "metadata": {
    "slideshow": {
     "slide_type": "fragment"
    }
   },
   "source": [
    ">###  \"If you are out to describe the truth, leave elegance to the tailor.\"\n",
    "\n",
    "\n"
   ]
  },
  {
   "cell_type": "markdown",
   "id": "2065103c",
   "metadata": {
    "slideshow": {
     "slide_type": "slide"
    }
   },
   "source": [
    "\n",
    "<h3 style=\"text-align: left;\">Is this paper simpler than possible, and too elegant?</h3>\n",
    "\n",
    "&nbsp;\n"
   ]
  },
  {
   "cell_type": "markdown",
   "id": "f546898a",
   "metadata": {
    "slideshow": {
     "slide_type": "fragment"
    }
   },
   "source": [
    "- Does their solution capture the essential role of heterogeneity? \n",
    "    - It's all about uncertainty.\n",
    "    - In the abstract, the authors say \n",
    "    \n",
    " > \"The economy features ... both permanent and temporary idiosyncratic risk\".\n"
   ]
  },
  {
   "cell_type": "markdown",
   "id": "ab58fbc9",
   "metadata": {
    "slideshow": {
     "slide_type": "slide"
    }
   },
   "source": [
    "<h3 style=\"text-align: left;\">Why are temporary and permanent idiosyncratic risk a big deal?</h3>\n",
    "\n"
   ]
  },
  {
   "cell_type": "markdown",
   "id": "603e4e4a",
   "metadata": {
    "slideshow": {
     "slide_type": "fragment"
    }
   },
   "source": [
    "- They change the solution to the problem profoundly."
   ]
  },
  {
   "cell_type": "markdown",
   "id": "4eca28d0",
   "metadata": {
    "slideshow": {
     "slide_type": "fragment"
    }
   },
   "source": [
    "- Wealth-poor, middle-wealth, and wealthy households behave very differently.\n",
    "    - In both anticipation and reaction to macroeconomic shocks and policies.\n",
    "    - Financial system effectively lends nominal money from wealthy to others.\n",
    "    - Inflation redistributes in a big way."
   ]
  },
  {
   "cell_type": "markdown",
   "id": "03c289bd",
   "metadata": {
    "slideshow": {
     "slide_type": "fragment"
    }
   },
   "source": [
    "- These facts arise from the concavity of the consumption function.\n",
    "    - This lies at the heart of the implications for heterogeneous macro.\n",
    "    - Simplest channel is via differential MPCs.\n",
    "    - Another is quite different responses to changes in uncertainty.\n"
   ]
  },
  {
   "cell_type": "markdown",
   "id": "54541cea",
   "metadata": {
    "slideshow": {
     "slide_type": "slide"
    }
   },
   "source": [
    "<h3 style=\"text-align: left;\">Key assumptions on transitory income risk</h3>\n",
    "\n",
    "\n",
    "\n",
    "\n"
   ]
  },
  {
   "cell_type": "markdown",
   "id": "4cd702b2",
   "metadata": {
    "slideshow": {
     "slide_type": "fragment"
    }
   },
   "source": [
    "\n",
    "> \"All households are subject to idiosyncratic risk ... in the form of ... unemployment shocks.\""
   ]
  },
  {
   "cell_type": "markdown",
   "id": "c206c911",
   "metadata": {
    "slideshow": {
     "slide_type": "fragment"
    }
   },
   "source": [
    "- With probability $p$ household $i$ becomes unemployed and receives $UI$ benefits\n",
    "\n",
    "- Otherwise households receive the wage $w_{t}$\n",
    "\n",
    "$$\n",
    "    \\quad y_{i} = \n",
    "    \\begin{cases}\n",
    "    UI, \\ \\text{w. prob}\\  p\\\\\n",
    "    w_{t},\\ \\text{w. prob} \\ (1-p)\\\\\n",
    "    \\end{cases}\n",
    "    \\quad\n",
    "    \\quad\n",
    "$$"
   ]
  },
  {
   "cell_type": "markdown",
   "id": "4a1a2517",
   "metadata": {
    "slideshow": {
     "slide_type": "fragment"
    }
   },
   "source": [
    "\n",
    "\n",
    "Their first elegant assumption:\n",
    "    \n",
    "     \n",
    ">\"An agent receiving an unemployment insurance payout... \n",
    ">receives the  labor income they would have received if they had been able to work..\"\n",
    "\n"
   ]
  },
  {
   "cell_type": "markdown",
   "id": "cb77ecad",
   "metadata": {
    "slideshow": {
     "slide_type": "slide"
    }
   },
   "source": [
    "<h3 style=\"text-align: left;\">Key assumptions on permanent income risk </h3>\n",
    "\n",
    "\n",
    "\n"
   ]
  },
  {
   "cell_type": "markdown",
   "id": "6c953a58",
   "metadata": {
    "slideshow": {
     "slide_type": "fragment"
    }
   },
   "source": [
    "\n",
    "Households are subject to a permanent shock when they are born.\n"
   ]
  },
  {
   "cell_type": "markdown",
   "id": "c04a43e9",
   "metadata": {
    "slideshow": {
     "slide_type": "fragment"
    }
   },
   "source": [
    "Their second elegant assumption:\n",
    "\n",
    ">\"Each incoming ... household is ... endowed with a productivity profile. \n",
    "     The value of the realization ... dictates the entire lifetime profile of productivity... \"\n",
    "&nbsp;"
   ]
  },
  {
   "cell_type": "markdown",
   "id": "6254d117",
   "metadata": {
    "slideshow": {
     "slide_type": "slide"
    }
   },
   "source": [
    "<h3 style=\"text-align: center;\">Doubly elegant</h3>\n",
    "\n",
    "- They change the solution to the problem profoundly.\n",
    "\n",
    "- This is the key to being able to solve with paper and pencil.\n"
   ]
  },
  {
   "cell_type": "markdown",
   "id": "ebce4e43",
   "metadata": {
    "slideshow": {
     "slide_type": "slide"
    }
   },
   "source": [
    "<h3 style=\"text-align: left;\">What about aggregate risk?</h3>\n",
    "\n",
    "\n",
    "\n",
    "    \n"
   ]
  },
  {
   "cell_type": "markdown",
   "id": "d417ed26",
   "metadata": {
    "slideshow": {
     "slide_type": "fragment"
    }
   },
   "source": [
    "Only risk households face is the aggregate real wage.\n"
   ]
  },
  {
   "cell_type": "markdown",
   "id": "a79865ff",
   "metadata": {
    "slideshow": {
     "slide_type": "fragment"
    }
   },
   "source": [
    "Monetary policy rule\n",
    "- passes aggregate shocks directly to consumers"
   ]
  },
  {
   "cell_type": "markdown",
   "id": "4513e844",
   "metadata": {
    "slideshow": {
     "slide_type": "slide"
    }
   },
   "source": [
    "<h3 style=\"text-align: left;\"> Idiosyncratic labor income risk > aggregate risk</h3>\n",
    "\n",
    "\n"
   ]
  },
  {
   "cell_type": "markdown",
   "id": "c78cd8bf",
   "metadata": {
    "slideshow": {
     "slide_type": "fragment"
    }
   },
   "source": [
    "\n",
    "- Idiosyncratic labor income risk is about 100 times larger than aggregate risk (Carroll et al. 2020).\n"
   ]
  },
  {
   "cell_type": "markdown",
   "id": "36970ae8",
   "metadata": {
    "slideshow": {
     "slide_type": "fragment"
    }
   },
   "source": [
    "- Does it vary over the business cycle? \n",
    "    - Yes, large empirical literature on countercyclical income risk. (Storesletten,Telmer, and Yaron 2004, Guvenen, Ozkan, and Song 2014, ...)"
   ]
  },
  {
   "cell_type": "markdown",
   "id": "37f36ef1",
   "metadata": {
    "slideshow": {
     "slide_type": "fragment"
    }
   },
   "source": [
    "\n",
    "\n",
    "- Does it matter?\n",
    "    - Yes, theoretical literature shows countercyclical Urisk as an amplifier of business cycles.\n",
    "    (Den Haan et al. 2017, Ravn and Sterk 2017, Schaab 2020, Graves 2023,...)\n",
    "    - Urisk increases precautionary saving driving down spending and further increasing Urisk.\n"
   ]
  },
  {
   "cell_type": "markdown",
   "id": "3d9f8bb1",
   "metadata": {
    "slideshow": {
     "slide_type": "slide"
    }
   },
   "source": [
    "<h3 style=\"text-align: left;\"> The power of countercyclical Urisk</h3>\n",
    "\n",
    "\n",
    "\n",
    "\n"
   ]
  },
  {
   "cell_type": "markdown",
   "id": "5e65ca6f",
   "metadata": {
    "slideshow": {
     "slide_type": "fragment"
    }
   },
   "source": [
    "- Consider a computational HANK and SAM (Ravn and Sterk 2017)\n",
    "    - Matches wealth distribution.\n",
    "    - Matches idiosyncratic permanent and transitory income shocks.\n",
    "    - For details of the model see [Will Du's slides](https://github.com/wdu9/HANK_SAM/blob/main/HANK_SAM_Model_Slides.pdf)\n",
    "    "
   ]
  },
  {
   "cell_type": "markdown",
   "id": "b1638322",
   "metadata": {
    "slideshow": {
     "slide_type": "fragment"
    }
   },
   "source": [
    "- How much does unemployment risk amplify business cycle fluctuations?\n"
   ]
  },
  {
   "cell_type": "markdown",
   "id": "d37a7913",
   "metadata": {
    "slideshow": {
     "slide_type": "slide"
    }
   },
   "source": [
    "\n",
    "<font size=”10”> Consider a monetary policy shock: a 2.5 basis point quarterly increase in the nominal rate.</font>\n"
   ]
  },
  {
   "cell_type": "markdown",
   "id": "eb5d60bd",
   "metadata": {
    "slideshow": {
     "slide_type": "fragment"
    }
   },
   "source": [
    "\n",
    "- What do the impulse responses look like:\n",
    "    - When households do not perceive changes in labor income uncertainty?\n",
    "    "
   ]
  },
  {
   "cell_type": "markdown",
   "id": "86f1258e",
   "metadata": {
    "slideshow": {
     "slide_type": "fragment"
    }
   },
   "source": [
    "<center><img src=\"ev_uncertainty.png\" width=\"500\"></center>\n",
    "\n"
   ]
  },
  {
   "cell_type": "markdown",
   "id": "b5a1f87a",
   "metadata": {
    "slideshow": {
     "slide_type": "slide"
    }
   },
   "source": [
    "<h3 style=\"text-align: left;\"> Optimal policy in response to unemployment risk</h3>\n",
    "\n",
    "\n",
    "\n",
    "\n"
   ]
  },
  {
   "cell_type": "markdown",
   "id": "b014c420",
   "metadata": {
    "slideshow": {
     "slide_type": "fragment"
    }
   },
   "source": [
    "      \n",
    "- Optimal monetary policy response to Urisk: \n",
    "    - nominal rate needs to be much more aggressive in price stabilization (Challe 2020, Bonciani and Oh 2021).\n"
   ]
  },
  {
   "cell_type": "markdown",
   "id": "918d1d4c",
   "metadata": {
    "slideshow": {
     "slide_type": "fragment"
    }
   },
   "source": [
    "- Literature on fiscal policy emphasizes the role of UI in mitigating Urisk:\n",
    "    - as an automatic stabilizer (Mckay and Reis (2016,2021), Graves 2023,..)\n",
    "    - as a discretionary tool (Kekre 2021, Carroll et al. 2023)\n",
    "      "
   ]
  },
  {
   "cell_type": "markdown",
   "id": "f288a507",
   "metadata": {
    "slideshow": {
     "slide_type": "fragment"
    }
   },
   "source": [
    "\n",
    "- With countercyclical Urisk:\n",
    "    - welfare loss from nominal contracting friction likely to be insignificant.\n",
    "    - Nominal GDP targeting will exacerbate welfare loss from lack of price and output stabilization.\n"
   ]
  },
  {
   "cell_type": "markdown",
   "id": "6f24f0f7",
   "metadata": {
    "slideshow": {
     "slide_type": "slide"
    }
   },
   "source": [
    "### <h3 style=\"text-align: left;\"> Concluding thoughts</h3>\n",
    "\n"
   ]
  },
  {
   "cell_type": "markdown",
   "id": "530ed485",
   "metadata": {
    "slideshow": {
     "slide_type": "fragment"
    }
   },
   "source": [
    "\n",
    "- Baseline models are often useful in organizing the benchmark wrt which richer models deviate. \n",
    "    - So we can be clear in how they deviate and their plausibility.\n"
   ]
  },
  {
   "cell_type": "markdown",
   "id": "74b85409",
   "metadata": {
    "slideshow": {
     "slide_type": "fragment"
    }
   },
   "source": [
    "- This model may serve as a benchmark in that sense.\n"
   ]
  },
  {
   "cell_type": "markdown",
   "id": "dcc4ed9c",
   "metadata": {
    "slideshow": {
     "slide_type": "fragment"
    }
   },
   "source": [
    "- I am not persuaded that it is likely to end up being a persuasive case.\n",
    "    - For an actually desirable recipe for monetary policy. \n",
    "    - Or other kinds of macroeconomic decisionmaking.\n"
   ]
  }
 ],
 "metadata": {
  "celltoolbar": "Slideshow",
  "kernelspec": {
   "display_name": "Python 3 (ipykernel)",
   "language": "python",
   "name": "python3"
  },
  "language_info": {
   "codemirror_mode": {
    "name": "ipython",
    "version": 3
   },
   "file_extension": ".py",
   "mimetype": "text/x-python",
   "name": "python",
   "nbconvert_exporter": "python",
   "pygments_lexer": "ipython3",
   "version": "3.9.13"
  }
 },
 "nbformat": 4,
 "nbformat_minor": 5
}
